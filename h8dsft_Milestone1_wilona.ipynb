{
 "cells": [
  {
   "cell_type": "markdown",
   "metadata": {},
   "source": [
    "# Milestone 1"
   ]
  },
  {
   "cell_type": "markdown",
   "metadata": {},
   "source": [
    "Nama: Wilona Natalie Elvaretta  \n",
    "Batch: RMT-028\n",
    "  \n",
    "Program ini dibuat untuk menganalisa faktor yang berpotensi menyebabkan seseorang memutuskan untuk keluar dari perusahaan, dengan menggunakan statistik deskriptif dan inferensial. Notebook juga berisikan visualisasi data untuk memberi insight lebih.  \n",
    "  \n",
    "Link dashboard: https://public.tableau.com/app/profile/wilona.natalie.elvaretta/viz/h8dsft_Milestone1_wilona/Dashboard12 "
   ]
  },
  {
   "cell_type": "markdown",
   "metadata": {},
   "source": [
    "## Identifikasi masalah"
   ]
  },
  {
   "cell_type": "markdown",
   "metadata": {},
   "source": [
    "Akhir-akhir ini, banyak karyawan yang memutuskan untuk resign atau keluar dari tempat bekerja. Hal ini seringkali tidak disangka atau dalam ekspektasi perusahaan, dan bisa mengakibatkan **produktivitas perusahaan menurun**. Untuk menghindarinya, ingin diselidiki apa saja faktor yang mungkin menjadi alasan seseorang mengundurkan diri agar perusahaan dapat **membuat strategi untuk meningkatkan employee retention**."
   ]
  },
  {
   "cell_type": "markdown",
   "metadata": {},
   "source": [
    "### SMART framework\n",
    "\n",
    "**S**pecific: Meningkatkan produktivitas perusahaan dengan meningkatkan employee retention  \n",
    "**M**easurable: Menekan jumlah orang keluar sebanyak 50%  \n",
    "**A**chievable: Menganalisa faktor yang mungkin menyebabkan seseorang keluar dan membuat strategi untuk mitigasi faktor tersebut   \n",
    "**R**elevant: Meningkatkan employee retention sejalan dengan naiknya employee engagement, yang menunjang produktivitas perusahaan  \n",
    "**T**ime-bound: Tercapai dalam 1 tahun ke depan"
   ]
  },
  {
   "cell_type": "markdown",
   "metadata": {},
   "source": [
    "### Problem statement\n",
    "Goal yang ingin diraih adalah untuk membuat strategi meningkatkan employee retention agar produktivitas perusahaan meningkat. Target tercapai jika dalam 1 tahun ke depan, banyak orang keluar turun sebanyak 50%. Strategi akan dilakukan berdasarkan analisa apa saja yang dapat menyebabkan seseorang keluar dan memitigasinya, sehingga meningkatkan employee engagement dan akhirnya meningkatkan produktivitas perusahaan."
   ]
  },
  {
   "cell_type": "markdown",
   "metadata": {},
   "source": [
    "### Problem breakdown\n",
    "1. Seperti apakah demografi karyawan yang bertahan dan yang keluar?\n",
    "2. Bagaimanakah tingkat kepuasan seseorang yang keluar dari perusahaan?\n",
    "3. Bagaimanakan tingkat work-life balance seseorang yang keluar dari perusahaan?\n",
    "4. Apakah ada perbedaan gaji antara karyawan yang keluar dengan yang bertahan? \n",
    "5. Bagaimana perbedaan karakteristik karyawan keluar dan bertahan?  \n",
    "6. Apakah ada hubungan tingkat kepuasan karyawan dengan departemen ia ditempatkan? "
   ]
  },
  {
   "cell_type": "markdown",
   "metadata": {},
   "source": [
    "## Data loading"
   ]
  },
  {
   "cell_type": "markdown",
   "metadata": {},
   "source": [
    "Data diambil dari Kaggle di link https://www.kaggle.com/datasets/pavansubhasht/ibm-hr-analytics-attrition-dataset/data.  \n",
    "\n",
    "Data merupakan dataset karyawan fiktif yang dibuat oleh IBM  dan dapat digunakan untuk menganalisa faktor yang mungkin memengaruhi keluarnya karyawan dari perusahaan."
   ]
  },
  {
   "cell_type": "code",
   "execution_count": 1,
   "metadata": {},
   "outputs": [],
   "source": [
    "# Import library\n",
    "import pandas as pd\n",
    "import matplotlib.pyplot as plt\n",
    "import seaborn as sns\n",
    "from scipy import stats "
   ]
  },
  {
   "cell_type": "code",
   "execution_count": 2,
   "metadata": {},
   "outputs": [
    {
     "data": {
      "text/html": [
       "<div>\n",
       "<style scoped>\n",
       "    .dataframe tbody tr th:only-of-type {\n",
       "        vertical-align: middle;\n",
       "    }\n",
       "\n",
       "    .dataframe tbody tr th {\n",
       "        vertical-align: top;\n",
       "    }\n",
       "\n",
       "    .dataframe thead th {\n",
       "        text-align: right;\n",
       "    }\n",
       "</style>\n",
       "<table border=\"1\" class=\"dataframe\">\n",
       "  <thead>\n",
       "    <tr style=\"text-align: right;\">\n",
       "      <th></th>\n",
       "      <th>Age</th>\n",
       "      <th>Attrition</th>\n",
       "      <th>BusinessTravel</th>\n",
       "      <th>DailyRate</th>\n",
       "      <th>Department</th>\n",
       "      <th>DistanceFromHome</th>\n",
       "      <th>Education</th>\n",
       "      <th>EducationField</th>\n",
       "      <th>EmployeeCount</th>\n",
       "      <th>EmployeeNumber</th>\n",
       "      <th>...</th>\n",
       "      <th>RelationshipSatisfaction</th>\n",
       "      <th>StandardHours</th>\n",
       "      <th>StockOptionLevel</th>\n",
       "      <th>TotalWorkingYears</th>\n",
       "      <th>TrainingTimesLastYear</th>\n",
       "      <th>WorkLifeBalance</th>\n",
       "      <th>YearsAtCompany</th>\n",
       "      <th>YearsInCurrentRole</th>\n",
       "      <th>YearsSinceLastPromotion</th>\n",
       "      <th>YearsWithCurrManager</th>\n",
       "    </tr>\n",
       "  </thead>\n",
       "  <tbody>\n",
       "    <tr>\n",
       "      <th>0</th>\n",
       "      <td>41</td>\n",
       "      <td>Yes</td>\n",
       "      <td>Travel_Rarely</td>\n",
       "      <td>1102</td>\n",
       "      <td>Sales</td>\n",
       "      <td>1</td>\n",
       "      <td>2</td>\n",
       "      <td>Life Sciences</td>\n",
       "      <td>1</td>\n",
       "      <td>1</td>\n",
       "      <td>...</td>\n",
       "      <td>1</td>\n",
       "      <td>80</td>\n",
       "      <td>0</td>\n",
       "      <td>8</td>\n",
       "      <td>0</td>\n",
       "      <td>1</td>\n",
       "      <td>6</td>\n",
       "      <td>4</td>\n",
       "      <td>0</td>\n",
       "      <td>5</td>\n",
       "    </tr>\n",
       "    <tr>\n",
       "      <th>1</th>\n",
       "      <td>49</td>\n",
       "      <td>No</td>\n",
       "      <td>Travel_Frequently</td>\n",
       "      <td>279</td>\n",
       "      <td>Research &amp; Development</td>\n",
       "      <td>8</td>\n",
       "      <td>1</td>\n",
       "      <td>Life Sciences</td>\n",
       "      <td>1</td>\n",
       "      <td>2</td>\n",
       "      <td>...</td>\n",
       "      <td>4</td>\n",
       "      <td>80</td>\n",
       "      <td>1</td>\n",
       "      <td>10</td>\n",
       "      <td>3</td>\n",
       "      <td>3</td>\n",
       "      <td>10</td>\n",
       "      <td>7</td>\n",
       "      <td>1</td>\n",
       "      <td>7</td>\n",
       "    </tr>\n",
       "    <tr>\n",
       "      <th>2</th>\n",
       "      <td>37</td>\n",
       "      <td>Yes</td>\n",
       "      <td>Travel_Rarely</td>\n",
       "      <td>1373</td>\n",
       "      <td>Research &amp; Development</td>\n",
       "      <td>2</td>\n",
       "      <td>2</td>\n",
       "      <td>Other</td>\n",
       "      <td>1</td>\n",
       "      <td>4</td>\n",
       "      <td>...</td>\n",
       "      <td>2</td>\n",
       "      <td>80</td>\n",
       "      <td>0</td>\n",
       "      <td>7</td>\n",
       "      <td>3</td>\n",
       "      <td>3</td>\n",
       "      <td>0</td>\n",
       "      <td>0</td>\n",
       "      <td>0</td>\n",
       "      <td>0</td>\n",
       "    </tr>\n",
       "    <tr>\n",
       "      <th>3</th>\n",
       "      <td>33</td>\n",
       "      <td>No</td>\n",
       "      <td>Travel_Frequently</td>\n",
       "      <td>1392</td>\n",
       "      <td>Research &amp; Development</td>\n",
       "      <td>3</td>\n",
       "      <td>4</td>\n",
       "      <td>Life Sciences</td>\n",
       "      <td>1</td>\n",
       "      <td>5</td>\n",
       "      <td>...</td>\n",
       "      <td>3</td>\n",
       "      <td>80</td>\n",
       "      <td>0</td>\n",
       "      <td>8</td>\n",
       "      <td>3</td>\n",
       "      <td>3</td>\n",
       "      <td>8</td>\n",
       "      <td>7</td>\n",
       "      <td>3</td>\n",
       "      <td>0</td>\n",
       "    </tr>\n",
       "    <tr>\n",
       "      <th>4</th>\n",
       "      <td>27</td>\n",
       "      <td>No</td>\n",
       "      <td>Travel_Rarely</td>\n",
       "      <td>591</td>\n",
       "      <td>Research &amp; Development</td>\n",
       "      <td>2</td>\n",
       "      <td>1</td>\n",
       "      <td>Medical</td>\n",
       "      <td>1</td>\n",
       "      <td>7</td>\n",
       "      <td>...</td>\n",
       "      <td>4</td>\n",
       "      <td>80</td>\n",
       "      <td>1</td>\n",
       "      <td>6</td>\n",
       "      <td>3</td>\n",
       "      <td>3</td>\n",
       "      <td>2</td>\n",
       "      <td>2</td>\n",
       "      <td>2</td>\n",
       "      <td>2</td>\n",
       "    </tr>\n",
       "    <tr>\n",
       "      <th>...</th>\n",
       "      <td>...</td>\n",
       "      <td>...</td>\n",
       "      <td>...</td>\n",
       "      <td>...</td>\n",
       "      <td>...</td>\n",
       "      <td>...</td>\n",
       "      <td>...</td>\n",
       "      <td>...</td>\n",
       "      <td>...</td>\n",
       "      <td>...</td>\n",
       "      <td>...</td>\n",
       "      <td>...</td>\n",
       "      <td>...</td>\n",
       "      <td>...</td>\n",
       "      <td>...</td>\n",
       "      <td>...</td>\n",
       "      <td>...</td>\n",
       "      <td>...</td>\n",
       "      <td>...</td>\n",
       "      <td>...</td>\n",
       "      <td>...</td>\n",
       "    </tr>\n",
       "    <tr>\n",
       "      <th>1465</th>\n",
       "      <td>36</td>\n",
       "      <td>No</td>\n",
       "      <td>Travel_Frequently</td>\n",
       "      <td>884</td>\n",
       "      <td>Research &amp; Development</td>\n",
       "      <td>23</td>\n",
       "      <td>2</td>\n",
       "      <td>Medical</td>\n",
       "      <td>1</td>\n",
       "      <td>2061</td>\n",
       "      <td>...</td>\n",
       "      <td>3</td>\n",
       "      <td>80</td>\n",
       "      <td>1</td>\n",
       "      <td>17</td>\n",
       "      <td>3</td>\n",
       "      <td>3</td>\n",
       "      <td>5</td>\n",
       "      <td>2</td>\n",
       "      <td>0</td>\n",
       "      <td>3</td>\n",
       "    </tr>\n",
       "    <tr>\n",
       "      <th>1466</th>\n",
       "      <td>39</td>\n",
       "      <td>No</td>\n",
       "      <td>Travel_Rarely</td>\n",
       "      <td>613</td>\n",
       "      <td>Research &amp; Development</td>\n",
       "      <td>6</td>\n",
       "      <td>1</td>\n",
       "      <td>Medical</td>\n",
       "      <td>1</td>\n",
       "      <td>2062</td>\n",
       "      <td>...</td>\n",
       "      <td>1</td>\n",
       "      <td>80</td>\n",
       "      <td>1</td>\n",
       "      <td>9</td>\n",
       "      <td>5</td>\n",
       "      <td>3</td>\n",
       "      <td>7</td>\n",
       "      <td>7</td>\n",
       "      <td>1</td>\n",
       "      <td>7</td>\n",
       "    </tr>\n",
       "    <tr>\n",
       "      <th>1467</th>\n",
       "      <td>27</td>\n",
       "      <td>No</td>\n",
       "      <td>Travel_Rarely</td>\n",
       "      <td>155</td>\n",
       "      <td>Research &amp; Development</td>\n",
       "      <td>4</td>\n",
       "      <td>3</td>\n",
       "      <td>Life Sciences</td>\n",
       "      <td>1</td>\n",
       "      <td>2064</td>\n",
       "      <td>...</td>\n",
       "      <td>2</td>\n",
       "      <td>80</td>\n",
       "      <td>1</td>\n",
       "      <td>6</td>\n",
       "      <td>0</td>\n",
       "      <td>3</td>\n",
       "      <td>6</td>\n",
       "      <td>2</td>\n",
       "      <td>0</td>\n",
       "      <td>3</td>\n",
       "    </tr>\n",
       "    <tr>\n",
       "      <th>1468</th>\n",
       "      <td>49</td>\n",
       "      <td>No</td>\n",
       "      <td>Travel_Frequently</td>\n",
       "      <td>1023</td>\n",
       "      <td>Sales</td>\n",
       "      <td>2</td>\n",
       "      <td>3</td>\n",
       "      <td>Medical</td>\n",
       "      <td>1</td>\n",
       "      <td>2065</td>\n",
       "      <td>...</td>\n",
       "      <td>4</td>\n",
       "      <td>80</td>\n",
       "      <td>0</td>\n",
       "      <td>17</td>\n",
       "      <td>3</td>\n",
       "      <td>2</td>\n",
       "      <td>9</td>\n",
       "      <td>6</td>\n",
       "      <td>0</td>\n",
       "      <td>8</td>\n",
       "    </tr>\n",
       "    <tr>\n",
       "      <th>1469</th>\n",
       "      <td>34</td>\n",
       "      <td>No</td>\n",
       "      <td>Travel_Rarely</td>\n",
       "      <td>628</td>\n",
       "      <td>Research &amp; Development</td>\n",
       "      <td>8</td>\n",
       "      <td>3</td>\n",
       "      <td>Medical</td>\n",
       "      <td>1</td>\n",
       "      <td>2068</td>\n",
       "      <td>...</td>\n",
       "      <td>1</td>\n",
       "      <td>80</td>\n",
       "      <td>0</td>\n",
       "      <td>6</td>\n",
       "      <td>3</td>\n",
       "      <td>4</td>\n",
       "      <td>4</td>\n",
       "      <td>3</td>\n",
       "      <td>1</td>\n",
       "      <td>2</td>\n",
       "    </tr>\n",
       "  </tbody>\n",
       "</table>\n",
       "<p>1470 rows × 35 columns</p>\n",
       "</div>"
      ],
      "text/plain": [
       "      Age Attrition     BusinessTravel  DailyRate              Department  \\\n",
       "0      41       Yes      Travel_Rarely       1102                   Sales   \n",
       "1      49        No  Travel_Frequently        279  Research & Development   \n",
       "2      37       Yes      Travel_Rarely       1373  Research & Development   \n",
       "3      33        No  Travel_Frequently       1392  Research & Development   \n",
       "4      27        No      Travel_Rarely        591  Research & Development   \n",
       "...   ...       ...                ...        ...                     ...   \n",
       "1465   36        No  Travel_Frequently        884  Research & Development   \n",
       "1466   39        No      Travel_Rarely        613  Research & Development   \n",
       "1467   27        No      Travel_Rarely        155  Research & Development   \n",
       "1468   49        No  Travel_Frequently       1023                   Sales   \n",
       "1469   34        No      Travel_Rarely        628  Research & Development   \n",
       "\n",
       "      DistanceFromHome  Education EducationField  EmployeeCount  \\\n",
       "0                    1          2  Life Sciences              1   \n",
       "1                    8          1  Life Sciences              1   \n",
       "2                    2          2          Other              1   \n",
       "3                    3          4  Life Sciences              1   \n",
       "4                    2          1        Medical              1   \n",
       "...                ...        ...            ...            ...   \n",
       "1465                23          2        Medical              1   \n",
       "1466                 6          1        Medical              1   \n",
       "1467                 4          3  Life Sciences              1   \n",
       "1468                 2          3        Medical              1   \n",
       "1469                 8          3        Medical              1   \n",
       "\n",
       "      EmployeeNumber  ...  RelationshipSatisfaction StandardHours  \\\n",
       "0                  1  ...                         1            80   \n",
       "1                  2  ...                         4            80   \n",
       "2                  4  ...                         2            80   \n",
       "3                  5  ...                         3            80   \n",
       "4                  7  ...                         4            80   \n",
       "...              ...  ...                       ...           ...   \n",
       "1465            2061  ...                         3            80   \n",
       "1466            2062  ...                         1            80   \n",
       "1467            2064  ...                         2            80   \n",
       "1468            2065  ...                         4            80   \n",
       "1469            2068  ...                         1            80   \n",
       "\n",
       "      StockOptionLevel  TotalWorkingYears  TrainingTimesLastYear  \\\n",
       "0                    0                  8                      0   \n",
       "1                    1                 10                      3   \n",
       "2                    0                  7                      3   \n",
       "3                    0                  8                      3   \n",
       "4                    1                  6                      3   \n",
       "...                ...                ...                    ...   \n",
       "1465                 1                 17                      3   \n",
       "1466                 1                  9                      5   \n",
       "1467                 1                  6                      0   \n",
       "1468                 0                 17                      3   \n",
       "1469                 0                  6                      3   \n",
       "\n",
       "     WorkLifeBalance  YearsAtCompany YearsInCurrentRole  \\\n",
       "0                  1               6                  4   \n",
       "1                  3              10                  7   \n",
       "2                  3               0                  0   \n",
       "3                  3               8                  7   \n",
       "4                  3               2                  2   \n",
       "...              ...             ...                ...   \n",
       "1465               3               5                  2   \n",
       "1466               3               7                  7   \n",
       "1467               3               6                  2   \n",
       "1468               2               9                  6   \n",
       "1469               4               4                  3   \n",
       "\n",
       "      YearsSinceLastPromotion  YearsWithCurrManager  \n",
       "0                           0                     5  \n",
       "1                           1                     7  \n",
       "2                           0                     0  \n",
       "3                           3                     0  \n",
       "4                           2                     2  \n",
       "...                       ...                   ...  \n",
       "1465                        0                     3  \n",
       "1466                        1                     7  \n",
       "1467                        0                     3  \n",
       "1468                        0                     8  \n",
       "1469                        1                     2  \n",
       "\n",
       "[1470 rows x 35 columns]"
      ]
     },
     "execution_count": 2,
     "metadata": {},
     "output_type": "execute_result"
    }
   ],
   "source": [
    "# Load data csv ke notebook\n",
    "df = pd.read_csv(\"wilona_data.csv\") \n",
    "df"
   ]
  },
  {
   "cell_type": "code",
   "execution_count": 3,
   "metadata": {},
   "outputs": [
    {
     "data": {
      "text/plain": [
       "Index(['Age', 'Attrition', 'BusinessTravel', 'DailyRate', 'Department',\n",
       "       'DistanceFromHome', 'Education', 'EducationField', 'EmployeeCount',\n",
       "       'EmployeeNumber', 'EnvironmentSatisfaction', 'Gender', 'HourlyRate',\n",
       "       'JobInvolvement', 'JobLevel', 'JobRole', 'JobSatisfaction',\n",
       "       'MaritalStatus', 'MonthlyIncome', 'MonthlyRate', 'NumCompaniesWorked',\n",
       "       'Over18', 'OverTime', 'PercentSalaryHike', 'PerformanceRating',\n",
       "       'RelationshipSatisfaction', 'StandardHours', 'StockOptionLevel',\n",
       "       'TotalWorkingYears', 'TrainingTimesLastYear', 'WorkLifeBalance',\n",
       "       'YearsAtCompany', 'YearsInCurrentRole', 'YearsSinceLastPromotion',\n",
       "       'YearsWithCurrManager'],\n",
       "      dtype='object')"
      ]
     },
     "execution_count": 3,
     "metadata": {},
     "output_type": "execute_result"
    }
   ],
   "source": [
    "# Melihat semua kolom pada df\n",
    "df.columns"
   ]
  },
  {
   "cell_type": "markdown",
   "metadata": {},
   "source": [
    "## Data cleaning"
   ]
  },
  {
   "cell_type": "markdown",
   "metadata": {},
   "source": [
    "Ada 35 kolom pada `df`, dan pada analisa ini tidak akan semuanya digunakan. Maka, beberapa kolom akan dihapus."
   ]
  },
  {
   "cell_type": "code",
   "execution_count": 4,
   "metadata": {},
   "outputs": [
    {
     "data": {
      "text/plain": [
       "Index(['Age', 'Attrition', 'BusinessTravel', 'Department', 'DistanceFromHome',\n",
       "       'Education', 'EmployeeNumber', 'EnvironmentSatisfaction', 'Gender',\n",
       "       'JobLevel', 'JobSatisfaction', 'MaritalStatus', 'MonthlyIncome',\n",
       "       'NumCompaniesWorked', 'OverTime', 'PercentSalaryHike',\n",
       "       'RelationshipSatisfaction', 'TotalWorkingYears', 'WorkLifeBalance',\n",
       "       'YearsAtCompany', 'YearsSinceLastPromotion', 'YearsWithCurrManager'],\n",
       "      dtype='object')"
      ]
     },
     "execution_count": 4,
     "metadata": {},
     "output_type": "execute_result"
    }
   ],
   "source": [
    "df.drop([\"DailyRate\", \"EducationField\", \"EmployeeCount\", \"HourlyRate\", \"JobRole\", \"MonthlyRate\", \"Over18\", \"StockOptionLevel\",\n",
    "\"JobInvolvement\", \"TrainingTimesLastYear\", \"YearsInCurrentRole\", \"PerformanceRating\", \"StandardHours\"], axis = 1, inplace = True)\n",
    "\n",
    "df.columns"
   ]
  },
  {
   "cell_type": "markdown",
   "metadata": {},
   "source": [
    "Selanjutnya, nama kolom akan diganti menjadi lebih singkat."
   ]
  },
  {
   "cell_type": "code",
   "execution_count": 5,
   "metadata": {},
   "outputs": [
    {
     "data": {
      "text/plain": [
       "Index(['age', 'exit', 'travel', 'dept', 'homeDist', 'edu', 'id', 'envrStf',\n",
       "       'gender', 'jobLvl', 'jobStf', 'marital', 'monthSal', 'pastComp',\n",
       "       'overtime', 'salInc', 'relStf', 'workYrs', 'wlBal', 'compYrs',\n",
       "       'lastPromYrs', 'currManYrs'],\n",
       "      dtype='object')"
      ]
     },
     "execution_count": 5,
     "metadata": {},
     "output_type": "execute_result"
    }
   ],
   "source": [
    "df.rename(columns = {\"Age\":\"age\", \"Attrition\":\"exit\" , \"BusinessTravel\":\"travel\", \"DistanceFromHome\":\"homeDist\", \n",
    "\"Education\":\"edu\", \"EmployeeNumber\":\"id\", \"EnvironmentSatisfaction\":\"envrStf\", \"Gender\":\"gender\", \"JobSatisfaction\":\"jobStf\", \n",
    "\"MaritalStatus\":\"marital\", \"MonthlyIncome\":\"monthSal\", \"NumCompaniesWorked\": \"pastComp\", \"OverTime\":\"overtime\", \n",
    "\"PercentSalaryHike\":\"salInc\", \"RelationshipSatisfaction\":\"relStf\", \"TotalWorkingYears\":\"workYrs\", \n",
    "\"WorkLifeBalance\":\"wlBal\", \"YearsAtCompany\":\"compYrs\", \"YearsSinceLastPromotion\":\"lastPromYrs\", \"YearsWithCurrManager\":\"currManYrs\", \n",
    "\"JobLevel\":\"jobLvl\", \"Department\":\"dept\"}, inplace = True)\n",
    "\n",
    "df.columns"
   ]
  },
  {
   "cell_type": "markdown",
   "metadata": {},
   "source": [
    "Kemudian ingin dilihat apakah ada nilai null dan apakah tipe data sudah sesuai."
   ]
  },
  {
   "cell_type": "code",
   "execution_count": 6,
   "metadata": {},
   "outputs": [
    {
     "name": "stdout",
     "output_type": "stream",
     "text": [
      "<class 'pandas.core.frame.DataFrame'>\n",
      "RangeIndex: 1470 entries, 0 to 1469\n",
      "Data columns (total 22 columns):\n",
      " #   Column       Non-Null Count  Dtype \n",
      "---  ------       --------------  ----- \n",
      " 0   age          1470 non-null   int64 \n",
      " 1   exit         1470 non-null   object\n",
      " 2   travel       1470 non-null   object\n",
      " 3   dept         1470 non-null   object\n",
      " 4   homeDist     1470 non-null   int64 \n",
      " 5   edu          1470 non-null   int64 \n",
      " 6   id           1470 non-null   int64 \n",
      " 7   envrStf      1470 non-null   int64 \n",
      " 8   gender       1470 non-null   object\n",
      " 9   jobLvl       1470 non-null   int64 \n",
      " 10  jobStf       1470 non-null   int64 \n",
      " 11  marital      1470 non-null   object\n",
      " 12  monthSal     1470 non-null   int64 \n",
      " 13  pastComp     1470 non-null   int64 \n",
      " 14  overtime     1470 non-null   object\n",
      " 15  salInc       1470 non-null   int64 \n",
      " 16  relStf       1470 non-null   int64 \n",
      " 17  workYrs      1470 non-null   int64 \n",
      " 18  wlBal        1470 non-null   int64 \n",
      " 19  compYrs      1470 non-null   int64 \n",
      " 20  lastPromYrs  1470 non-null   int64 \n",
      " 21  currManYrs   1470 non-null   int64 \n",
      "dtypes: int64(16), object(6)\n",
      "memory usage: 252.8+ KB\n"
     ]
    }
   ],
   "source": [
    "df.info()"
   ]
  },
  {
   "cell_type": "markdown",
   "metadata": {},
   "source": [
    "Data tidak mengandung null values.  \n",
    "Namun, untuk data kategorikal dalam bentuk angka akan diganti valuesnya menjadi dalam string (agar lebih mudah saat visualisasi) dan disesuaikan tipe datanya menjadi `category`. "
   ]
  },
  {
   "cell_type": "code",
   "execution_count": 7,
   "metadata": {},
   "outputs": [
    {
     "data": {
      "text/html": [
       "<div>\n",
       "<style scoped>\n",
       "    .dataframe tbody tr th:only-of-type {\n",
       "        vertical-align: middle;\n",
       "    }\n",
       "\n",
       "    .dataframe tbody tr th {\n",
       "        vertical-align: top;\n",
       "    }\n",
       "\n",
       "    .dataframe thead th {\n",
       "        text-align: right;\n",
       "    }\n",
       "</style>\n",
       "<table border=\"1\" class=\"dataframe\">\n",
       "  <thead>\n",
       "    <tr style=\"text-align: right;\">\n",
       "      <th></th>\n",
       "      <th>age</th>\n",
       "      <th>exit</th>\n",
       "      <th>travel</th>\n",
       "      <th>dept</th>\n",
       "      <th>homeDist</th>\n",
       "      <th>edu</th>\n",
       "      <th>id</th>\n",
       "      <th>envrStf</th>\n",
       "      <th>gender</th>\n",
       "      <th>jobLvl</th>\n",
       "      <th>...</th>\n",
       "      <th>monthSal</th>\n",
       "      <th>pastComp</th>\n",
       "      <th>overtime</th>\n",
       "      <th>salInc</th>\n",
       "      <th>relStf</th>\n",
       "      <th>workYrs</th>\n",
       "      <th>wlBal</th>\n",
       "      <th>compYrs</th>\n",
       "      <th>lastPromYrs</th>\n",
       "      <th>currManYrs</th>\n",
       "    </tr>\n",
       "  </thead>\n",
       "  <tbody>\n",
       "    <tr>\n",
       "      <th>0</th>\n",
       "      <td>41</td>\n",
       "      <td>Yes</td>\n",
       "      <td>Rarely</td>\n",
       "      <td>Sales</td>\n",
       "      <td>1</td>\n",
       "      <td>College</td>\n",
       "      <td>1</td>\n",
       "      <td>Medium</td>\n",
       "      <td>Female</td>\n",
       "      <td>2</td>\n",
       "      <td>...</td>\n",
       "      <td>5993</td>\n",
       "      <td>8</td>\n",
       "      <td>Yes</td>\n",
       "      <td>11</td>\n",
       "      <td>Low</td>\n",
       "      <td>8</td>\n",
       "      <td>Bad</td>\n",
       "      <td>6</td>\n",
       "      <td>0</td>\n",
       "      <td>5</td>\n",
       "    </tr>\n",
       "    <tr>\n",
       "      <th>1</th>\n",
       "      <td>49</td>\n",
       "      <td>No</td>\n",
       "      <td>Frequently</td>\n",
       "      <td>Research &amp; Development</td>\n",
       "      <td>8</td>\n",
       "      <td>Below College</td>\n",
       "      <td>2</td>\n",
       "      <td>High</td>\n",
       "      <td>Male</td>\n",
       "      <td>2</td>\n",
       "      <td>...</td>\n",
       "      <td>5130</td>\n",
       "      <td>1</td>\n",
       "      <td>No</td>\n",
       "      <td>23</td>\n",
       "      <td>Very High</td>\n",
       "      <td>10</td>\n",
       "      <td>Better</td>\n",
       "      <td>10</td>\n",
       "      <td>1</td>\n",
       "      <td>7</td>\n",
       "    </tr>\n",
       "    <tr>\n",
       "      <th>2</th>\n",
       "      <td>37</td>\n",
       "      <td>Yes</td>\n",
       "      <td>Rarely</td>\n",
       "      <td>Research &amp; Development</td>\n",
       "      <td>2</td>\n",
       "      <td>College</td>\n",
       "      <td>4</td>\n",
       "      <td>Very High</td>\n",
       "      <td>Male</td>\n",
       "      <td>1</td>\n",
       "      <td>...</td>\n",
       "      <td>2090</td>\n",
       "      <td>6</td>\n",
       "      <td>Yes</td>\n",
       "      <td>15</td>\n",
       "      <td>Medium</td>\n",
       "      <td>7</td>\n",
       "      <td>Better</td>\n",
       "      <td>0</td>\n",
       "      <td>0</td>\n",
       "      <td>0</td>\n",
       "    </tr>\n",
       "    <tr>\n",
       "      <th>3</th>\n",
       "      <td>33</td>\n",
       "      <td>No</td>\n",
       "      <td>Frequently</td>\n",
       "      <td>Research &amp; Development</td>\n",
       "      <td>3</td>\n",
       "      <td>Master</td>\n",
       "      <td>5</td>\n",
       "      <td>Very High</td>\n",
       "      <td>Female</td>\n",
       "      <td>1</td>\n",
       "      <td>...</td>\n",
       "      <td>2909</td>\n",
       "      <td>1</td>\n",
       "      <td>Yes</td>\n",
       "      <td>11</td>\n",
       "      <td>High</td>\n",
       "      <td>8</td>\n",
       "      <td>Better</td>\n",
       "      <td>8</td>\n",
       "      <td>3</td>\n",
       "      <td>0</td>\n",
       "    </tr>\n",
       "    <tr>\n",
       "      <th>4</th>\n",
       "      <td>27</td>\n",
       "      <td>No</td>\n",
       "      <td>Rarely</td>\n",
       "      <td>Research &amp; Development</td>\n",
       "      <td>2</td>\n",
       "      <td>Below College</td>\n",
       "      <td>7</td>\n",
       "      <td>Low</td>\n",
       "      <td>Male</td>\n",
       "      <td>1</td>\n",
       "      <td>...</td>\n",
       "      <td>3468</td>\n",
       "      <td>9</td>\n",
       "      <td>No</td>\n",
       "      <td>12</td>\n",
       "      <td>Very High</td>\n",
       "      <td>6</td>\n",
       "      <td>Better</td>\n",
       "      <td>2</td>\n",
       "      <td>2</td>\n",
       "      <td>2</td>\n",
       "    </tr>\n",
       "  </tbody>\n",
       "</table>\n",
       "<p>5 rows × 22 columns</p>\n",
       "</div>"
      ],
      "text/plain": [
       "   age exit      travel                    dept  homeDist            edu  id  \\\n",
       "0   41  Yes      Rarely                   Sales         1        College   1   \n",
       "1   49   No  Frequently  Research & Development         8  Below College   2   \n",
       "2   37  Yes      Rarely  Research & Development         2        College   4   \n",
       "3   33   No  Frequently  Research & Development         3         Master   5   \n",
       "4   27   No      Rarely  Research & Development         2  Below College   7   \n",
       "\n",
       "     envrStf  gender  jobLvl  ... monthSal pastComp  overtime  salInc  \\\n",
       "0     Medium  Female       2  ...     5993        8       Yes      11   \n",
       "1       High    Male       2  ...     5130        1        No      23   \n",
       "2  Very High    Male       1  ...     2090        6       Yes      15   \n",
       "3  Very High  Female       1  ...     2909        1       Yes      11   \n",
       "4        Low    Male       1  ...     3468        9        No      12   \n",
       "\n",
       "      relStf  workYrs   wlBal  compYrs lastPromYrs  currManYrs  \n",
       "0        Low        8     Bad        6           0           5  \n",
       "1  Very High       10  Better       10           1           7  \n",
       "2     Medium        7  Better        0           0           0  \n",
       "3       High        8  Better        8           3           0  \n",
       "4  Very High        6  Better        2           2           2  \n",
       "\n",
       "[5 rows x 22 columns]"
      ]
     },
     "execution_count": 7,
     "metadata": {},
     "output_type": "execute_result"
    }
   ],
   "source": [
    "# Mengganti value string dengan angka\n",
    "df[\"travel\"].replace({\"Non-Travel\":\"None\", \"Travel_Rarely\":\"Rarely\", \"Travel_Frequently\":\"Frequently\"}, inplace = True)\n",
    "df[\"edu\"].replace({1:\"Below College\", 2:\"College\", 3:\"Bachelor\", 4:\"Master\", 5:\"Doctor\"}, inplace = True)\n",
    "df[\"envrStf\"].replace({1:\"Low\", 2:\"Medium\", 3:\"High\", 4:\"Very High\"}, inplace = True)\n",
    "df[\"jobStf\"].replace({1:\"Low\", 2:\"Medium\", 3:\"High\", 4:\"Very High\"}, inplace = True)\n",
    "df[\"relStf\"].replace({1:\"Low\", 2:\"Medium\", 3:\"High\", 4:\"Very High\"}, inplace = True)\n",
    "df[\"wlBal\"].replace({1:\"Bad\", 2:\"Good\", 3:\"Better\", 4:\"Best\"}, inplace = True)\n",
    "\n",
    "df.head()"
   ]
  },
  {
   "cell_type": "code",
   "execution_count": 8,
   "metadata": {},
   "outputs": [],
   "source": [
    "# Mengubah tipe data ke categorical\n",
    "catList = [\"gender\", \"marital\", \"edu\", \"dept\", \"travel\", \"envrStf\", \"jobStf\", \"relStf\", \"wlBal\", \"overtime\"]\n",
    "for cat in catList:\n",
    "    df[cat] = pd.Categorical(df[cat])\n",
    "df[\"exit\"] = pd.Categorical(df[\"exit\"])"
   ]
  },
  {
   "cell_type": "markdown",
   "metadata": {},
   "source": [
    "Di-cek kembali tipe data untuk semua variabel."
   ]
  },
  {
   "cell_type": "code",
   "execution_count": 9,
   "metadata": {},
   "outputs": [
    {
     "data": {
      "text/plain": [
       "age               int64\n",
       "exit           category\n",
       "travel         category\n",
       "dept           category\n",
       "homeDist          int64\n",
       "edu            category\n",
       "id                int64\n",
       "envrStf        category\n",
       "gender         category\n",
       "jobLvl            int64\n",
       "jobStf         category\n",
       "marital        category\n",
       "monthSal          int64\n",
       "pastComp          int64\n",
       "overtime       category\n",
       "salInc            int64\n",
       "relStf         category\n",
       "workYrs           int64\n",
       "wlBal          category\n",
       "compYrs           int64\n",
       "lastPromYrs       int64\n",
       "currManYrs        int64\n",
       "dtype: object"
      ]
     },
     "execution_count": 9,
     "metadata": {},
     "output_type": "execute_result"
    }
   ],
   "source": [
    "# Melihat tipe data\n",
    "df.dtypes"
   ]
  },
  {
   "cell_type": "markdown",
   "metadata": {},
   "source": [
    "Selanjutnya akan diperiksa apakah ada data duplikat atau tidak."
   ]
  },
  {
   "cell_type": "code",
   "execution_count": 10,
   "metadata": {},
   "outputs": [
    {
     "data": {
      "text/plain": [
       "0"
      ]
     },
     "execution_count": 10,
     "metadata": {},
     "output_type": "execute_result"
    }
   ],
   "source": [
    "len(df) - len(df.drop_duplicates())"
   ]
  },
  {
   "cell_type": "markdown",
   "metadata": {},
   "source": [
    "## Analisis dan perhitungan"
   ]
  },
  {
   "cell_type": "markdown",
   "metadata": {},
   "source": [
    "### Demografi karyawan"
   ]
  },
  {
   "cell_type": "markdown",
   "metadata": {},
   "source": [
    "Ingin dilihat terlebih dahulu demografi karyawan secara keseluruhan."
   ]
  },
  {
   "cell_type": "code",
   "execution_count": 11,
   "metadata": {},
   "outputs": [
    {
     "data": {
      "image/png": "[encoded data removed]",
      "text/plain": [
       "<Figure size 1000x1000 with 4 Axes>"
      ]
     },
     "metadata": {},
     "output_type": "display_data"
    }
   ],
   "source": [
    "# Membuat chart demografi keseluruhan karyawan\n",
    "fig, axes = plt.subplots(ncols = 2, nrows = 2, figsize = (10, 10))\n",
    "\n",
    "axes[0,0].pie(df[\"gender\"].value_counts(), labels = [\"Male\", \"Female\"], autopct='%1.1f%%')\n",
    "axes[0,1].pie(df[\"marital\"].value_counts(), labels = [\"Married\", \"Single\", \"Divorced\"], autopct='%1.1f%%')\n",
    "df[\"edu\"].value_counts().plot(kind = \"barh\", ax = axes[1,0])\n",
    "df[\"dept\"].value_counts().plot(kind = \"bar\", ax = axes[1,1])\n",
    "\n",
    "plt.show()\n"
   ]
  },
  {
   "cell_type": "markdown",
   "metadata": {},
   "source": [
    "#### Insight\n",
    "1. Lebih banyak karyawan laki-laki dibandingkan perempuan, dengan perbandingan 60:40\n",
    "2. Hampir setengah dari karyawan sudah menikah, dengan sisanya berstatus lajang atau sudah bercerai \n",
    "3. Ada 3 departemen yang diamati pada data ini, yaitu HR, R&D, dan Sales. Departemen R&D memiliki anggota terbanyak\n",
    "4. Gelar akademik karyawan cukup bervariasi, namun paling banyak ditemukan sarjana di antara karyawan"
   ]
  },
  {
   "cell_type": "markdown",
   "metadata": {},
   "source": [
    "Kemudian ingin dilihat demografi dari karyawan yang keluar saja. "
   ]
  },
  {
   "cell_type": "code",
   "execution_count": 12,
   "metadata": {},
   "outputs": [
    {
     "data": {
      "image/png": "[encoded data removed]",
      "text/plain": [
       "<Figure size 1000x1000 with 4 Axes>"
      ]
     },
     "metadata": {},
     "output_type": "display_data"
    }
   ],
   "source": [
    "# Membuat chart demografi keseluruhan karyawan\n",
    "fig, axes = plt.subplots(ncols = 2, nrows = 2, figsize = (10, 10))\n",
    "\n",
    "axes[0,0].pie(df[df[\"exit\"] == \"Yes\"][\"gender\"].value_counts(), labels = [\"Male\", \"Female\"], autopct='%1.1f%%')\n",
    "axes[0,1].pie(df[df[\"exit\"] == \"Yes\"][\"marital\"].value_counts(), labels = [\"Single\", \"Married\", \"Divorced\"], autopct='%1.1f%%')\n",
    "df[df[\"exit\"] == \"Yes\"][\"edu\"].value_counts().plot(kind = \"barh\", ax = axes[1,0])\n",
    "df[df[\"exit\"] == \"Yes\"][\"dept\"].value_counts().plot(kind = \"bar\", ax = axes[1,1])\n",
    "\n",
    "plt.show()"
   ]
  },
  {
   "cell_type": "markdown",
   "metadata": {},
   "source": [
    "#### Insight  \n",
    "1. Mayoritas karyawan exit adalah laki-laki\n",
    "2. Lebih dari setengah karyawan exit masih lajang\n",
    "3. Departemen R&D kehilangan paling banyak karyawan\n",
    "4. Orang yang paling banyak keluar bergelar sarjana"
   ]
  },
  {
   "cell_type": "markdown",
   "metadata": {},
   "source": [
    "### Tingkat kepuasan karyawan keluar"
   ]
  },
  {
   "cell_type": "code",
   "execution_count": 13,
   "metadata": {},
   "outputs": [
    {
     "data": {
      "text/plain": [
       "Text(0.5, 1.0, 'Kepuasan relasi kerja')"
      ]
     },
     "execution_count": 13,
     "metadata": {},
     "output_type": "execute_result"
    },
    {
     "data": {
      "image/png": "[encoded data removed]",
      "text/plain": [
       "<Figure size 1500x600 with 3 Axes>"
      ]
     },
     "metadata": {},
     "output_type": "display_data"
    }
   ],
   "source": [
    "fig, axes = plt.subplots(1, 3, figsize = (15, 6))\n",
    "fig.suptitle(\"Tingkat kepuasan karyawan keluar\")\n",
    "sns.countplot(data = df[df[\"exit\"] == \"Yes\"], x = \"envrStf\", hue = \"envrStf\", ax = axes[0])\n",
    "sns.countplot(data = df[df[\"exit\"] == \"Yes\"], x = \"jobStf\", hue = \"jobStf\", ax = axes[1])\n",
    "sns.countplot(data = df[df[\"exit\"] == \"Yes\"], x = \"relStf\", hue = \"relStf\", ax = axes[2])\n",
    "\n",
    "axes[0].set_title('Kepuasan lingkungan kerja')\n",
    "axes[1].set_title('Kepuasan pekerjaan')\n",
    "axes[2].set_title('Kepuasan relasi kerja')"
   ]
  },
  {
   "cell_type": "code",
   "execution_count": 23,
   "metadata": {},
   "outputs": [
    {
     "data": {
      "text/html": [
       "<div>\n",
       "<style scoped>\n",
       "    .dataframe tbody tr th:only-of-type {\n",
       "        vertical-align: middle;\n",
       "    }\n",
       "\n",
       "    .dataframe tbody tr th {\n",
       "        vertical-align: top;\n",
       "    }\n",
       "\n",
       "    .dataframe thead th {\n",
       "        text-align: right;\n",
       "    }\n",
       "</style>\n",
       "<table border=\"1\" class=\"dataframe\">\n",
       "  <thead>\n",
       "    <tr style=\"text-align: right;\">\n",
       "      <th></th>\n",
       "      <th>envrStf</th>\n",
       "      <th>jobStf</th>\n",
       "      <th>relStf</th>\n",
       "    </tr>\n",
       "  </thead>\n",
       "  <tbody>\n",
       "    <tr>\n",
       "      <th>0</th>\n",
       "      <td>Medium</td>\n",
       "      <td>Very High</td>\n",
       "      <td>Low</td>\n",
       "    </tr>\n",
       "    <tr>\n",
       "      <th>1</th>\n",
       "      <td>High</td>\n",
       "      <td>Medium</td>\n",
       "      <td>Very High</td>\n",
       "    </tr>\n",
       "    <tr>\n",
       "      <th>2</th>\n",
       "      <td>Very High</td>\n",
       "      <td>High</td>\n",
       "      <td>Medium</td>\n",
       "    </tr>\n",
       "    <tr>\n",
       "      <th>3</th>\n",
       "      <td>Very High</td>\n",
       "      <td>High</td>\n",
       "      <td>High</td>\n",
       "    </tr>\n",
       "    <tr>\n",
       "      <th>4</th>\n",
       "      <td>Low</td>\n",
       "      <td>Medium</td>\n",
       "      <td>Very High</td>\n",
       "    </tr>\n",
       "    <tr>\n",
       "      <th>...</th>\n",
       "      <td>...</td>\n",
       "      <td>...</td>\n",
       "      <td>...</td>\n",
       "    </tr>\n",
       "    <tr>\n",
       "      <th>1465</th>\n",
       "      <td>High</td>\n",
       "      <td>Very High</td>\n",
       "      <td>High</td>\n",
       "    </tr>\n",
       "    <tr>\n",
       "      <th>1466</th>\n",
       "      <td>Very High</td>\n",
       "      <td>Low</td>\n",
       "      <td>Low</td>\n",
       "    </tr>\n",
       "    <tr>\n",
       "      <th>1467</th>\n",
       "      <td>Medium</td>\n",
       "      <td>Medium</td>\n",
       "      <td>Medium</td>\n",
       "    </tr>\n",
       "    <tr>\n",
       "      <th>1468</th>\n",
       "      <td>Very High</td>\n",
       "      <td>Medium</td>\n",
       "      <td>Very High</td>\n",
       "    </tr>\n",
       "    <tr>\n",
       "      <th>1469</th>\n",
       "      <td>Medium</td>\n",
       "      <td>High</td>\n",
       "      <td>Low</td>\n",
       "    </tr>\n",
       "  </tbody>\n",
       "</table>\n",
       "<p>1470 rows × 3 columns</p>\n",
       "</div>"
      ],
      "text/plain": [
       "        envrStf     jobStf     relStf\n",
       "0        Medium  Very High        Low\n",
       "1          High     Medium  Very High\n",
       "2     Very High       High     Medium\n",
       "3     Very High       High       High\n",
       "4           Low     Medium  Very High\n",
       "...         ...        ...        ...\n",
       "1465       High  Very High       High\n",
       "1466  Very High        Low        Low\n",
       "1467     Medium     Medium     Medium\n",
       "1468  Very High     Medium  Very High\n",
       "1469     Medium       High        Low\n",
       "\n",
       "[1470 rows x 3 columns]"
      ]
     },
     "execution_count": 23,
     "metadata": {},
     "output_type": "execute_result"
    }
   ],
   "source": [
    "df1 = pd.DataFrame(df[[\"envrStf\", \"jobStf\", \"relStf\"]])\n",
    "df1"
   ]
  },
  {
   "cell_type": "markdown",
   "metadata": {},
   "source": [
    "Dari garafik di atas, tingkat kepuasan karyawan resign untuk lingkungan kerja rendah dibandingkan dengan 2 lainnya. Maka, faktor lingkungan kerja bisa hal yang dimonitor dan dievaluasi ke depannya dalam mempertahankan karyawan."
   ]
  },
  {
   "cell_type": "markdown",
   "metadata": {},
   "source": [
    "### Tingkat work-life balance karyawan yang keluar"
   ]
  },
  {
   "cell_type": "code",
   "execution_count": 14,
   "metadata": {},
   "outputs": [
    {
     "data": {
      "image/png": "[encoded data removed]",
      "text/plain": [
       "<Figure size 640x480 with 1 Axes>"
      ]
     },
     "metadata": {},
     "output_type": "display_data"
    }
   ],
   "source": [
    "plt.pie(df[\"wlBal\"].value_counts(), labels = [\"Better\", \"Good\", \"Best\", \"Bad\"], autopct='%1.1f%%')\n",
    "plt.show()"
   ]
  },
  {
   "cell_type": "markdown",
   "metadata": {},
   "source": [
    "Ternyata, karyawan yang keluar berpendapat work-life balance mereka lebih dari baik. Bahkan hanya sekitar 5% yang memiliki tingkat work-life balance rendah. Ini menjadi temuan bahwa ada kemungkinan seseorang akan memutuskan keluar dari perusahaan walaupun ia merasa porsi pekerjaan dan kehidupan pribadinya seimbang."
   ]
  },
  {
   "cell_type": "markdown",
   "metadata": {},
   "source": [
    "### Perbedaan distribusi gaji karyawan keluar dan bertahan"
   ]
  },
  {
   "cell_type": "markdown",
   "metadata": {},
   "source": [
    "Ingin dilihat dari boxplot, apakah ada perbedaan antara gaji karyawan yang bertahan dengan gaji karyawan yang keluar."
   ]
  },
  {
   "cell_type": "code",
   "execution_count": 15,
   "metadata": {},
   "outputs": [
    {
     "data": {
      "text/plain": [
       "<Axes: xlabel='monthSal', ylabel='exit'>"
      ]
     },
     "execution_count": 15,
     "metadata": {},
     "output_type": "execute_result"
    },
    {
     "data": {
      "image/png": "[encoded data removed]",
      "text/plain": [
       "<Figure size 640x480 with 1 Axes>"
      ]
     },
     "metadata": {},
     "output_type": "display_data"
    }
   ],
   "source": [
    "sns.boxplot(data = df, x = \"monthSal\", y = \"exit\", hue = \"exit\")"
   ]
  },
  {
   "cell_type": "markdown",
   "metadata": {},
   "source": [
    "Ternyata secara keseluruhan data, gaji karyawan yang keluar lebih rendah dibandingkan gaji karyawan yang bertahan. Ini bisa jadi pertanda bahwa karyawan yang keluar ingin mencari pekerjaan di tempat lain yang menawarkan gaji lebih tinggi."
   ]
  },
  {
   "cell_type": "markdown",
   "metadata": {},
   "source": [
    "### Ciri-ciri karyawan yang keluar dibandingkan karyawan bertahan"
   ]
  },
  {
   "cell_type": "markdown",
   "metadata": {},
   "source": [
    "Dengan statistik deskritpif variabel, ingin dipahami variabel apa sajakah yang potensial menyebabkan seseorang keluar dengan membandingkannya dengan kaakteristik karyawan bertahan."
   ]
  },
  {
   "cell_type": "code",
   "execution_count": 16,
   "metadata": {},
   "outputs": [
    {
     "data": {
      "text/html": [
       "<div>\n",
       "<style scoped>\n",
       "    .dataframe tbody tr th:only-of-type {\n",
       "        vertical-align: middle;\n",
       "    }\n",
       "\n",
       "    .dataframe tbody tr th {\n",
       "        vertical-align: top;\n",
       "    }\n",
       "\n",
       "    .dataframe thead th {\n",
       "        text-align: right;\n",
       "    }\n",
       "</style>\n",
       "<table border=\"1\" class=\"dataframe\">\n",
       "  <thead>\n",
       "    <tr style=\"text-align: right;\">\n",
       "      <th></th>\n",
       "      <th>min</th>\n",
       "      <th>max</th>\n",
       "      <th>mean</th>\n",
       "      <th>median</th>\n",
       "      <th>mode</th>\n",
       "    </tr>\n",
       "  </thead>\n",
       "  <tbody>\n",
       "    <tr>\n",
       "      <th>age</th>\n",
       "      <td>18</td>\n",
       "      <td>58</td>\n",
       "      <td>33.607595</td>\n",
       "      <td>32.0</td>\n",
       "      <td>29.0</td>\n",
       "    </tr>\n",
       "    <tr>\n",
       "      <th>monthSal</th>\n",
       "      <td>1009</td>\n",
       "      <td>19859</td>\n",
       "      <td>4787.092827</td>\n",
       "      <td>3202.0</td>\n",
       "      <td>2293.0</td>\n",
       "    </tr>\n",
       "    <tr>\n",
       "      <th>salInc</th>\n",
       "      <td>11</td>\n",
       "      <td>25</td>\n",
       "      <td>15.097046</td>\n",
       "      <td>14.0</td>\n",
       "      <td>11.0</td>\n",
       "    </tr>\n",
       "    <tr>\n",
       "      <th>workYrs</th>\n",
       "      <td>0</td>\n",
       "      <td>40</td>\n",
       "      <td>8.244726</td>\n",
       "      <td>7.0</td>\n",
       "      <td>1.0</td>\n",
       "    </tr>\n",
       "    <tr>\n",
       "      <th>compYrs</th>\n",
       "      <td>0</td>\n",
       "      <td>40</td>\n",
       "      <td>5.130802</td>\n",
       "      <td>3.0</td>\n",
       "      <td>1.0</td>\n",
       "    </tr>\n",
       "    <tr>\n",
       "      <th>lastPromYrs</th>\n",
       "      <td>0</td>\n",
       "      <td>15</td>\n",
       "      <td>1.945148</td>\n",
       "      <td>1.0</td>\n",
       "      <td>0.0</td>\n",
       "    </tr>\n",
       "    <tr>\n",
       "      <th>currManYrs</th>\n",
       "      <td>0</td>\n",
       "      <td>14</td>\n",
       "      <td>2.852321</td>\n",
       "      <td>2.0</td>\n",
       "      <td>0.0</td>\n",
       "    </tr>\n",
       "    <tr>\n",
       "      <th>pastComp</th>\n",
       "      <td>0</td>\n",
       "      <td>9</td>\n",
       "      <td>2.940928</td>\n",
       "      <td>1.0</td>\n",
       "      <td>1.0</td>\n",
       "    </tr>\n",
       "    <tr>\n",
       "      <th>homeDist</th>\n",
       "      <td>1</td>\n",
       "      <td>29</td>\n",
       "      <td>10.632911</td>\n",
       "      <td>9.0</td>\n",
       "      <td>2.0</td>\n",
       "    </tr>\n",
       "  </tbody>\n",
       "</table>\n",
       "</div>"
      ],
      "text/plain": [
       "              min    max         mean  median    mode\n",
       "age            18     58    33.607595    32.0    29.0\n",
       "monthSal     1009  19859  4787.092827  3202.0  2293.0\n",
       "salInc         11     25    15.097046    14.0    11.0\n",
       "workYrs         0     40     8.244726     7.0     1.0\n",
       "compYrs         0     40     5.130802     3.0     1.0\n",
       "lastPromYrs     0     15     1.945148     1.0     0.0\n",
       "currManYrs      0     14     2.852321     2.0     0.0\n",
       "pastComp        0      9     2.940928     1.0     1.0\n",
       "homeDist        1     29    10.632911     9.0     2.0"
      ]
     },
     "execution_count": 16,
     "metadata": {},
     "output_type": "execute_result"
    }
   ],
   "source": [
    "# Statistik deskriptif data numerik orang keluar\n",
    "numList = ['age', 'monthSal', 'salInc', 'workYrs', 'compYrs', 'lastPromYrs', 'currManYrs', 'pastComp', 'homeDist']\n",
    "dfExit = df[df[\"exit\"] == \"Yes\"]\n",
    "\n",
    "modExit = dfExit[numList].mode().transpose()\n",
    "modeExit = modExit[0]\n",
    "statDExit = pd.DataFrame({\"min\":dfExit[numList].min(), \"max\":dfExit[numList].max(), \"mean\":dfExit[numList].mean(), \"median\":dfExit[numList].median(), \n",
    "\"mode\":modeExit})\n",
    "statDExit\n"
   ]
  },
  {
   "cell_type": "code",
   "execution_count": 17,
   "metadata": {},
   "outputs": [
    {
     "data": {
      "text/html": [
       "<div>\n",
       "<style scoped>\n",
       "    .dataframe tbody tr th:only-of-type {\n",
       "        vertical-align: middle;\n",
       "    }\n",
       "\n",
       "    .dataframe tbody tr th {\n",
       "        vertical-align: top;\n",
       "    }\n",
       "\n",
       "    .dataframe thead th {\n",
       "        text-align: right;\n",
       "    }\n",
       "</style>\n",
       "<table border=\"1\" class=\"dataframe\">\n",
       "  <thead>\n",
       "    <tr style=\"text-align: right;\">\n",
       "      <th></th>\n",
       "      <th>gender</th>\n",
       "      <th>marital</th>\n",
       "      <th>edu</th>\n",
       "      <th>dept</th>\n",
       "      <th>travel</th>\n",
       "      <th>envrStf</th>\n",
       "      <th>jobStf</th>\n",
       "      <th>relStf</th>\n",
       "      <th>wlBal</th>\n",
       "      <th>overtime</th>\n",
       "    </tr>\n",
       "  </thead>\n",
       "  <tbody>\n",
       "    <tr>\n",
       "      <th>count</th>\n",
       "      <td>237</td>\n",
       "      <td>237</td>\n",
       "      <td>237</td>\n",
       "      <td>237</td>\n",
       "      <td>237</td>\n",
       "      <td>237</td>\n",
       "      <td>237</td>\n",
       "      <td>237</td>\n",
       "      <td>237</td>\n",
       "      <td>237</td>\n",
       "    </tr>\n",
       "    <tr>\n",
       "      <th>unique</th>\n",
       "      <td>2</td>\n",
       "      <td>3</td>\n",
       "      <td>5</td>\n",
       "      <td>3</td>\n",
       "      <td>3</td>\n",
       "      <td>4</td>\n",
       "      <td>4</td>\n",
       "      <td>4</td>\n",
       "      <td>4</td>\n",
       "      <td>2</td>\n",
       "    </tr>\n",
       "    <tr>\n",
       "      <th>top</th>\n",
       "      <td>Male</td>\n",
       "      <td>Single</td>\n",
       "      <td>Bachelor</td>\n",
       "      <td>Research &amp; Development</td>\n",
       "      <td>Rarely</td>\n",
       "      <td>Low</td>\n",
       "      <td>High</td>\n",
       "      <td>High</td>\n",
       "      <td>Better</td>\n",
       "      <td>Yes</td>\n",
       "    </tr>\n",
       "    <tr>\n",
       "      <th>freq</th>\n",
       "      <td>150</td>\n",
       "      <td>120</td>\n",
       "      <td>99</td>\n",
       "      <td>133</td>\n",
       "      <td>156</td>\n",
       "      <td>72</td>\n",
       "      <td>73</td>\n",
       "      <td>71</td>\n",
       "      <td>127</td>\n",
       "      <td>127</td>\n",
       "    </tr>\n",
       "  </tbody>\n",
       "</table>\n",
       "</div>"
      ],
      "text/plain": [
       "       gender marital       edu                    dept  travel envrStf  \\\n",
       "count     237     237       237                     237     237     237   \n",
       "unique      2       3         5                       3       3       4   \n",
       "top      Male  Single  Bachelor  Research & Development  Rarely     Low   \n",
       "freq      150     120        99                     133     156      72   \n",
       "\n",
       "       jobStf relStf   wlBal overtime  \n",
       "count     237    237     237      237  \n",
       "unique      4      4       4        2  \n",
       "top      High   High  Better      Yes  \n",
       "freq       73     71     127      127  "
      ]
     },
     "execution_count": 17,
     "metadata": {},
     "output_type": "execute_result"
    }
   ],
   "source": [
    "# Statistik deskriptif data categorical orang keluar\n",
    "dfExit[catList].describe()"
   ]
  },
  {
   "cell_type": "code",
   "execution_count": 18,
   "metadata": {},
   "outputs": [
    {
     "data": {
      "text/html": [
       "<div>\n",
       "<style scoped>\n",
       "    .dataframe tbody tr th:only-of-type {\n",
       "        vertical-align: middle;\n",
       "    }\n",
       "\n",
       "    .dataframe tbody tr th {\n",
       "        vertical-align: top;\n",
       "    }\n",
       "\n",
       "    .dataframe thead th {\n",
       "        text-align: right;\n",
       "    }\n",
       "</style>\n",
       "<table border=\"1\" class=\"dataframe\">\n",
       "  <thead>\n",
       "    <tr style=\"text-align: right;\">\n",
       "      <th></th>\n",
       "      <th>min</th>\n",
       "      <th>max</th>\n",
       "      <th>mean</th>\n",
       "      <th>median</th>\n",
       "      <th>mode</th>\n",
       "    </tr>\n",
       "  </thead>\n",
       "  <tbody>\n",
       "    <tr>\n",
       "      <th>age</th>\n",
       "      <td>18</td>\n",
       "      <td>60</td>\n",
       "      <td>37.561233</td>\n",
       "      <td>36.0</td>\n",
       "      <td>34.0</td>\n",
       "    </tr>\n",
       "    <tr>\n",
       "      <th>monthSal</th>\n",
       "      <td>1051</td>\n",
       "      <td>19999</td>\n",
       "      <td>6832.739659</td>\n",
       "      <td>5204.0</td>\n",
       "      <td>2342.0</td>\n",
       "    </tr>\n",
       "    <tr>\n",
       "      <th>salInc</th>\n",
       "      <td>11</td>\n",
       "      <td>25</td>\n",
       "      <td>15.231144</td>\n",
       "      <td>14.0</td>\n",
       "      <td>14.0</td>\n",
       "    </tr>\n",
       "    <tr>\n",
       "      <th>workYrs</th>\n",
       "      <td>0</td>\n",
       "      <td>38</td>\n",
       "      <td>11.862936</td>\n",
       "      <td>10.0</td>\n",
       "      <td>10.0</td>\n",
       "    </tr>\n",
       "    <tr>\n",
       "      <th>compYrs</th>\n",
       "      <td>0</td>\n",
       "      <td>37</td>\n",
       "      <td>7.369019</td>\n",
       "      <td>6.0</td>\n",
       "      <td>5.0</td>\n",
       "    </tr>\n",
       "    <tr>\n",
       "      <th>lastPromYrs</th>\n",
       "      <td>0</td>\n",
       "      <td>15</td>\n",
       "      <td>2.234388</td>\n",
       "      <td>1.0</td>\n",
       "      <td>0.0</td>\n",
       "    </tr>\n",
       "    <tr>\n",
       "      <th>currManYrs</th>\n",
       "      <td>0</td>\n",
       "      <td>17</td>\n",
       "      <td>4.367397</td>\n",
       "      <td>3.0</td>\n",
       "      <td>2.0</td>\n",
       "    </tr>\n",
       "    <tr>\n",
       "      <th>pastComp</th>\n",
       "      <td>0</td>\n",
       "      <td>9</td>\n",
       "      <td>2.645580</td>\n",
       "      <td>2.0</td>\n",
       "      <td>1.0</td>\n",
       "    </tr>\n",
       "    <tr>\n",
       "      <th>homeDist</th>\n",
       "      <td>1</td>\n",
       "      <td>29</td>\n",
       "      <td>8.915653</td>\n",
       "      <td>7.0</td>\n",
       "      <td>2.0</td>\n",
       "    </tr>\n",
       "  </tbody>\n",
       "</table>\n",
       "</div>"
      ],
      "text/plain": [
       "              min    max         mean  median    mode\n",
       "age            18     60    37.561233    36.0    34.0\n",
       "monthSal     1051  19999  6832.739659  5204.0  2342.0\n",
       "salInc         11     25    15.231144    14.0    14.0\n",
       "workYrs         0     38    11.862936    10.0    10.0\n",
       "compYrs         0     37     7.369019     6.0     5.0\n",
       "lastPromYrs     0     15     2.234388     1.0     0.0\n",
       "currManYrs      0     17     4.367397     3.0     2.0\n",
       "pastComp        0      9     2.645580     2.0     1.0\n",
       "homeDist        1     29     8.915653     7.0     2.0"
      ]
     },
     "execution_count": 18,
     "metadata": {},
     "output_type": "execute_result"
    }
   ],
   "source": [
    "# Statistik deskriptif data numerik orang bertahan\n",
    "dfStay = df[df[\"exit\"] == \"No\"]\n",
    "\n",
    "modStay = dfStay[numList].mode().transpose()\n",
    "modeStay = modStay[0]\n",
    "statDStay = pd.DataFrame({\"min\":dfStay[numList].min(), \"max\":dfStay[numList].max(), \"mean\":dfStay[numList].mean(), \"median\":dfStay[numList].median(), \n",
    "\"mode\":modeStay})\n",
    "statDStay\n"
   ]
  },
  {
   "cell_type": "code",
   "execution_count": 19,
   "metadata": {},
   "outputs": [
    {
     "data": {
      "text/html": [
       "<div>\n",
       "<style scoped>\n",
       "    .dataframe tbody tr th:only-of-type {\n",
       "        vertical-align: middle;\n",
       "    }\n",
       "\n",
       "    .dataframe tbody tr th {\n",
       "        vertical-align: top;\n",
       "    }\n",
       "\n",
       "    .dataframe thead th {\n",
       "        text-align: right;\n",
       "    }\n",
       "</style>\n",
       "<table border=\"1\" class=\"dataframe\">\n",
       "  <thead>\n",
       "    <tr style=\"text-align: right;\">\n",
       "      <th></th>\n",
       "      <th>gender</th>\n",
       "      <th>marital</th>\n",
       "      <th>edu</th>\n",
       "      <th>dept</th>\n",
       "      <th>travel</th>\n",
       "      <th>envrStf</th>\n",
       "      <th>jobStf</th>\n",
       "      <th>relStf</th>\n",
       "      <th>wlBal</th>\n",
       "      <th>overtime</th>\n",
       "    </tr>\n",
       "  </thead>\n",
       "  <tbody>\n",
       "    <tr>\n",
       "      <th>count</th>\n",
       "      <td>1233</td>\n",
       "      <td>1233</td>\n",
       "      <td>1233</td>\n",
       "      <td>1233</td>\n",
       "      <td>1233</td>\n",
       "      <td>1233</td>\n",
       "      <td>1233</td>\n",
       "      <td>1233</td>\n",
       "      <td>1233</td>\n",
       "      <td>1233</td>\n",
       "    </tr>\n",
       "    <tr>\n",
       "      <th>unique</th>\n",
       "      <td>2</td>\n",
       "      <td>3</td>\n",
       "      <td>5</td>\n",
       "      <td>3</td>\n",
       "      <td>3</td>\n",
       "      <td>4</td>\n",
       "      <td>4</td>\n",
       "      <td>4</td>\n",
       "      <td>4</td>\n",
       "      <td>2</td>\n",
       "    </tr>\n",
       "    <tr>\n",
       "      <th>top</th>\n",
       "      <td>Male</td>\n",
       "      <td>Married</td>\n",
       "      <td>Bachelor</td>\n",
       "      <td>Research &amp; Development</td>\n",
       "      <td>Rarely</td>\n",
       "      <td>High</td>\n",
       "      <td>Very High</td>\n",
       "      <td>High</td>\n",
       "      <td>Better</td>\n",
       "      <td>No</td>\n",
       "    </tr>\n",
       "    <tr>\n",
       "      <th>freq</th>\n",
       "      <td>732</td>\n",
       "      <td>589</td>\n",
       "      <td>473</td>\n",
       "      <td>828</td>\n",
       "      <td>887</td>\n",
       "      <td>391</td>\n",
       "      <td>407</td>\n",
       "      <td>388</td>\n",
       "      <td>766</td>\n",
       "      <td>944</td>\n",
       "    </tr>\n",
       "  </tbody>\n",
       "</table>\n",
       "</div>"
      ],
      "text/plain": [
       "       gender  marital       edu                    dept  travel envrStf  \\\n",
       "count    1233     1233      1233                    1233    1233    1233   \n",
       "unique      2        3         5                       3       3       4   \n",
       "top      Male  Married  Bachelor  Research & Development  Rarely    High   \n",
       "freq      732      589       473                     828     887     391   \n",
       "\n",
       "           jobStf relStf   wlBal overtime  \n",
       "count        1233   1233    1233     1233  \n",
       "unique          4      4       4        2  \n",
       "top     Very High   High  Better       No  \n",
       "freq          407    388     766      944  "
      ]
     },
     "execution_count": 19,
     "metadata": {},
     "output_type": "execute_result"
    }
   ],
   "source": [
    "# Statistik deskriptif data categorical orang bertahan\n",
    "dfStay[catList].describe()"
   ]
  },
  {
   "cell_type": "markdown",
   "metadata": {},
   "source": [
    "#### Insight\n",
    "1. Kepuasan rendah terhadap lingkungan kerja dapat diselidiki sebagai penyebab resign\n",
    "2. Sebagian besar karyawan yang resign, melakukan overtime\n",
    "3. Rata-rata jarak rumah ke kantor untuk karyawan exit lebih besar dibandingkan karyawan bertahan\n",
    "4. Karyawan yang keluar memiliki rata-rata lama bekerja lebih rendah dibanding karyawan bertahan \n",
    "5. Rata-rata gaji karyawan yang keluar lebih rendah dari rata-rata gaji karyawan bertahan"
   ]
  },
  {
   "cell_type": "markdown",
   "metadata": {},
   "source": [
    "### Hubungan tingkat kepuasan dan keputusan seseorang keluar atau bertahan"
   ]
  },
  {
   "cell_type": "markdown",
   "metadata": {},
   "source": [
    "Akan dilihat apakah tingkat kepuasan seseorang terhadap pekerjaan, lingkungan kerja, dan hubungan kerja berhubungan dengan keputusannya keluar. Karena semua variabel kategorikal, akan digunakan Chi-Squared Test, dengan hipotesis:  \n",
    "  \n",
    "$ H_0 $: Tidak ada hubungan antara 2 variabel  \n",
    "$ H_1 $: Ada hubungan antara 2 variabel"
   ]
  },
  {
   "cell_type": "code",
   "execution_count": 20,
   "metadata": {},
   "outputs": [
    {
     "name": "stdout",
     "output_type": "stream",
     "text": [
      "Kepuasan lingkungan kerja vs Departemen\n",
      "P-value: 0.32684009274494286\n",
      "\n",
      "Kepuasan pekerjaan vs Departemen\n",
      "P-value: 0.20189678484148324\n",
      "\n",
      "Kepuasan relasi kerja vs Departemen\n",
      "P-value: 0.3074928277825121\n"
     ]
    }
   ],
   "source": [
    "contingency_table1 = pd.crosstab(df[\"envrStf\"],df[\"dept\"])\n",
    "res1 = stats.chi2_contingency(contingency_table1)\n",
    "\n",
    "contingency_table2 = pd.crosstab(df[\"jobStf\"],df[\"dept\"])\n",
    "res2 = stats.chi2_contingency(contingency_table2)\n",
    "\n",
    "contingency_table3 = pd.crosstab(df[\"relStf\"],df[\"dept\"])\n",
    "res3 = stats.chi2_contingency(contingency_table3)\n",
    "\n",
    "print(f\"Kepuasan lingkungan kerja vs Departemen\\nP-value: {res1.pvalue}\\n\")\n",
    "print(f\"Kepuasan pekerjaan vs Departemen\\nP-value: {res2.pvalue}\\n\")\n",
    "print(f\"Kepuasan relasi kerja vs Departemen\\nP-value: {res3.pvalue}\")"
   ]
  },
  {
   "cell_type": "markdown",
   "metadata": {},
   "source": [
    "Dengan tingkat signifikansi 5%, dapat disimpulkan bahwa tidak ada hubungan antara kepuasan lingkungan kerja, kepuasan pekerjaan, dan kepuasan akan relasi kerja dengan di departemen mana ia ditempatkan.  \n",
    "Temuan ini dapat diartikan sebagai seseorang menentukan kepuasannya mungkin dengan melihat perusahaan secara keseluruhan dan bukan per departemen."
   ]
  },
  {
   "cell_type": "markdown",
   "metadata": {},
   "source": [
    "## Pengambilan keputusan"
   ]
  },
  {
   "cell_type": "markdown",
   "metadata": {},
   "source": [
    "Dari analisa yang dilakukan, ada beberapa poin yang menjadi highlight:\n",
    "1. Sebagian besar karyawan keluar merasa kurang puas dengan lingkungan bekerja di perusahaan\n",
    "2. Work-life balance di perusahaan dinilai cukup baik oleh karyawan keluar\n",
    "3. Ada perbedaan gaji secara umum antara karyawan bertahan dengan karyawan yang keluar, di mana gaji karyawan keluar lebih rendah\n",
    "4. Karyawan keluar banyak yang melakukan overtime\n",
    "5. Rata-rata jarak rumah ke kantor untuk karyawan exit lebih besar dibandingkan karyawan bertahan"
   ]
  },
  {
   "cell_type": "markdown",
   "metadata": {},
   "source": [
    "> Maka, strategi yang dapat direkomendasikan untuk meningkatkan employee retention adalah:\n",
    "1. Mengevaluasi keadaan lingkungan kerja di perusahaan dengan mendiskusikannya secara langsung ke karyawan (apa yang membuat mereka kurang puas, harapan apa yang dimiliki untuk ada di kantor), dan membuat event perusahaan untuk bonding dengan karyawan\n",
    "2. Mempertahankan tingkat work-life balance\n",
    "3. Meninjau perbedaan gaji yang terjadi antara karyawan keluar dan bertahan apakah faktor pembedanya, dan ke depannya me-review ulang skema gaji karyawan\n",
    "4. Mengurangi karyawan yang bekerja overtime dengan menerapkan policy tertentu, atau mencoba menerapkan jam kerja fleksibel\n",
    "5. Memastikan di tahap rekrutmen bahwa jarak tempat tinggal yang jauh dari kantor adalah tanggung jawab karyawan, dan memberikan tunjangan transportasi dengan kondisi tertentu"
   ]
  },
  {
   "cell_type": "markdown",
   "metadata": {},
   "source": [
    "## Dashboard"
   ]
  },
  {
   "cell_type": "markdown",
   "metadata": {},
   "source": [
    "Data `df` akan di-import agar bisa dipakai di pembuatan dashboard.\n",
    "Link dashboard ada di bagian atas notebook ini."
   ]
  },
  {
   "cell_type": "code",
   "execution_count": 22,
   "metadata": {},
   "outputs": [],
   "source": [
    "df.to_csv(\"wilona_data_clean.csv\", index = False)"
   ]
  }
 ],
 "metadata": {
  "kernelspec": {
   "display_name": "Hacktiv8",
   "language": "python",
   "name": "python3"
  },
  "language_info": {
   "codemirror_mode": {
    "name": "ipython",
    "version": 3
   },
   "file_extension": ".py",
   "mimetype": "text/x-python",
   "name": "python",
   "nbconvert_exporter": "python",
   "pygments_lexer": "ipython3",
   "version": "3.9.18"
  }
 },
 "nbformat": 4,
 "nbformat_minor": 2
}
